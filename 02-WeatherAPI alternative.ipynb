{
 "cells": [
  {
   "cell_type": "markdown",
   "id": "16ec1185-3ef5-467a-9fa4-80696fe453fe",
   "metadata": {},
   "source": [
    "# Kensho Kuremoto\n",
    "## Part2:Weather API alternative\n",
    "### Any comments without numbers are just there to explain what’s going on in my head."
   ]
  },
  {
   "cell_type": "markdown",
   "id": "c852ccfe-c6de-4c53-8be3-cff6c4d208aa",
   "metadata": {},
   "source": [
    "## Q1)Examine both Open Meteo and Tomorrow and decide which one you'd prefer to use. What drove your decision?\n",
    "# I chose Open Meteo :https://open-meteo.com/\n",
    "### Because,\n",
    "##### I thought Open Meteo might be easier to use because it lets you specify only the elements you need. Tomorrow doesn’t seem bad either, but narrowing down the elements makes it easier to understand the structure of the JSON data and likely reduces bugs as well.Also, since the API key is only needed for commercial use, it’s a big plus that we don’t need one for this homework."
   ]
  },
  {
   "cell_type": "markdown",
   "id": "849ec72d-b12e-43b5-aae6-fcced8eb069c",
   "metadata": {},
   "source": [
    "# ★The API key is not used here, so I haven't used .env processing."
   ]
  },
  {
   "cell_type": "markdown",
   "id": "d1267739-9652-4133-b4ab-203b44cbcd41",
   "metadata": {},
   "source": [
    "## Q2)URL to the documentation: https://open-meteo.com/en/docs"
   ]
  },
  {
   "cell_type": "markdown",
   "id": "75773ba4-0973-4b31-9d94-4ed44575218b",
   "metadata": {},
   "source": [
    "## Q3)Make a request for the current weather where you are born, or somewhere you've lived.\n",
    "#### I entered the exact latitude and longitude of my real hometown, Osaka, Japan."
   ]
  },
  {
   "cell_type": "code",
   "execution_count": 42,
   "id": "d6ecf2b2-2593-4d27-8a60-b94ccf54ecf1",
   "metadata": {},
   "outputs": [
    {
     "name": "stdout",
     "output_type": "stream",
     "text": [
      "My hometown, Osaka is 19.7°C\n"
     ]
    }
   ],
   "source": [
    "import requests\n",
    "\n",
    "url = \"https://api.open-meteo.com/v1/forecast\"\n",
    "hometown = {\n",
    "    \"latitude\": 34.6938,\n",
    "    \"longitude\": 135.5011,\n",
    "    \"current\": \"temperature_2m,apparent_temperature\",\n",
    "}\n",
    "\n",
    "response = requests.get(url, params=hometown)\n",
    "\n",
    "if response:\n",
    "    data = response.json()\n",
    "    temp_c = data.get(\"current\", {}).get(\"temperature_2m\")\n",
    "    if temp_c:\n",
    "        print(f\"My hometown, Osaka is {temp_c}°C\")\n"
   ]
  },
  {
   "cell_type": "code",
   "execution_count": 50,
   "id": "271e8732-62cf-46b5-9b7b-262ab68914a1",
   "metadata": {},
   "outputs": [
    {
     "name": "stdout",
     "output_type": "stream",
     "text": [
      "The current weather in Osaka: Moderate drizzle\n"
     ]
    }
   ],
   "source": [
    "#Amazingly, I realized that the API data only contains weather information in the form of weather codes, which need to be converted into actual descriptions. \n",
    "#At this point, I swore never to use Open Meteo again.\n",
    "\n",
    "import requests\n",
    "\n",
    "lat = 34.6938\n",
    "lon = 135.5011\n",
    "\n",
    "#There was a list of weather codes at the very bottom of the documentation.\n",
    "url = \"https://api.open-meteo.com/v1/forecast\"\n",
    "hometown = {\n",
    "    \"latitude\": lat,\n",
    "    \"longitude\": lon,\n",
    "    \"current\": \"temperature_2m,apparent_temperature,weather_code\",\n",
    "}\n",
    "\n",
    "#Create a dictionary that defines the descriptions corresponding to each weather_code (Rely on ChatGPT's help for this part).\n",
    "weather_code_map = {\n",
    "    0: \"Clear sky\",\n",
    "    1: \"Mainly clear\",\n",
    "    2: \"Partly cloudy\",\n",
    "    3: \"Overcast\",\n",
    "    45: \"Fog\",\n",
    "    48: \"Depositing rime fog\",\n",
    "    51: \"Light drizzle\",\n",
    "    53: \"Moderate drizzle\",\n",
    "    55: \"Dense drizzle\",\n",
    "    56: \"Light freezing drizzle\",\n",
    "    57: \"Dense freezing drizzle\",\n",
    "    61: \"Slight rain\",\n",
    "    63: \"Moderate rain\",\n",
    "    65: \"Heavy rain\",\n",
    "    66: \"Light freezing rain\",\n",
    "    67: \"Heavy freezing rain\",\n",
    "    71: \"Slight snow fall\",\n",
    "    73: \"Moderate snow fall\",\n",
    "    75: \"Heavy snow fall\",\n",
    "    77: \"Snow grains\",\n",
    "    80: \"Slight rain showers\",\n",
    "    81: \"Moderate rain showers\",\n",
    "    82: \"Violent rain showers\",\n",
    "    85: \"Slight snow showers\",\n",
    "    86: \"Heavy snow showers\",\n",
    "    95: \"Thunderstorm\",\n",
    "    96: \"Thunderstorm with slight hail\",\n",
    "    99: \"Thunderstorm with heavy hail\"\n",
    "}\n",
    "\n",
    "response = requests.get(url, params=hometown)\n",
    "\n",
    "if response.status_code:\n",
    "    data = response.json()\n",
    "    weather_code = data.get(\"current\", {}).get(\"weather_code\")\n",
    "    \n",
    "    if weather_code is not None:\n",
    "        description = weather_code_map.get(weather_code, \"Unknown weather code\")\n",
    "        print(f\"The current weather in Osaka: {description}\")\n"
   ]
  },
  {
   "cell_type": "markdown",
   "id": "41622e38-90e5-4288-9426-a19c9bf2612a",
   "metadata": {},
   "source": [
    "## Q4)Print out the country this location is in."
   ]
  },
  {
   "cell_type": "code",
   "execution_count": 20,
   "id": "24aac428-f88a-4097-98e6-84549e7cf513",
   "metadata": {},
   "outputs": [
    {
     "name": "stdout",
     "output_type": "stream",
     "text": [
      "My hometown, Osaka is in Japan.\n"
     ]
    }
   ],
   "source": [
    "import requests\n",
    "\n",
    "#Unfortunately, the API data didn’t include a country name field. So, I need to identify the country using the latitude and longitude.\n",
    "\n",
    "latitude = 34.6938\n",
    "longitude = 135.5011\n",
    "\n",
    "#Using Nominatim to identify the country this location is in.\n",
    "url = \"https://nominatim.openstreetmap.org/search\"\n",
    "\n",
    "\n",
    "country = {\n",
    "    \"q\": f\"{latitude}, {longitude}\",\n",
    "    \"format\": \"jsonv2\",\n",
    "    \"addressdetails\": 1,\n",
    "    \"limit\": 1\n",
    "}\n",
    "\n",
    "#The country name is output in Japanese, so I will switch it to English.\n",
    "headers = {\n",
    "    \"User-Agent\": \"MyApp/1.0 (kensho19940928@gmail.com)\",\n",
    "    \"Accept-Language\": \"en\" \n",
    "}\n",
    "\n",
    "response = requests.get(url, params=country, headers=headers)\n",
    "\n",
    "if response.ok:\n",
    "    data = response.json()\n",
    "    if data and \"address\" in data[0]:\n",
    "        country = data[0][\"address\"].get(\"country\", \"Unknown\")\n",
    "        print(f\"My hometown, Osaka is in {country}.\")\n",
    "    else:\n",
    "        print(\"Address information not found.\")\n",
    "else:\n",
    "    print(f\"Request failed: {response.status_code}\")\n"
   ]
  },
  {
   "cell_type": "markdown",
   "id": "879d5379-bd06-42f7-b740-643bcbcef9d7",
   "metadata": {},
   "source": [
    "## Q5)Print out the difference between the current temperature and how warm it feels. "
   ]
  },
  {
   "cell_type": "code",
   "execution_count": 18,
   "id": "9d2f5d01-98ac-4dd3-87b6-66ccfc2feed0",
   "metadata": {},
   "outputs": [
    {
     "name": "stdout",
     "output_type": "stream",
     "text": [
      "It feels 2.8 degrees warmer.\n"
     ]
    }
   ],
   "source": [
    "import requests\n",
    "\n",
    "url = \"https://api.open-meteo.com/v1/forecast\"\n",
    "params = {\n",
    "    \"latitude\": 34.6938,\n",
    "    \"longitude\": 135.5011,\n",
    "    \"current\": \"temperature_2m,apparent_temperature\",\n",
    "}\n",
    "\n",
    "response = requests.get(url, params=params)\n",
    "data = response.json()\n",
    "\n",
    "temp = data[\"current\"][\"temperature_2m\"]\n",
    "apparent = data[\"current\"][\"apparent_temperature\"]\n",
    "\n",
    "diff = apparent - temp\n",
    "\n",
    "#The decimal part is ridiculously long, so I’ll round it to one decimal place.\n",
    "if diff > 0:\n",
    "    print(f\"It feels {diff:.1f} degrees warmer.\")\n",
    "elif diff < 0:\n",
    "    print(f\"It feels {abs(diff):.1f} degrees colder.\")\n"
   ]
  },
  {
   "cell_type": "markdown",
   "id": "b50c2a78-0a17-4215-86d4-66f0e60a232d",
   "metadata": {},
   "source": [
    "## Q6)What's the current temperature at Heathrow International Airport? "
   ]
  },
  {
   "cell_type": "code",
   "execution_count": 23,
   "id": "5bcbc674-fa9a-4335-940b-b2bf615ea85b",
   "metadata": {},
   "outputs": [
    {
     "name": "stdout",
     "output_type": "stream",
     "text": [
      "Heathrow International Airport current temperature: 15.4°C\n"
     ]
    }
   ],
   "source": [
    "import requests\n",
    "\n",
    "#Enter the Heathrow Airport IATA code “LHR” into Open Meteo, the following latitude and longitude are shown.\n",
    "latitude = 51.4712\n",
    "longitude = -0.4565\n",
    "\n",
    "url = \"https://api.open-meteo.com/v1/forecast\"\n",
    "weathernow = {\n",
    "    \"latitude\": latitude,\n",
    "    \"longitude\": longitude,\n",
    "    \"current_weather\": True, \n",
    "}\n",
    "\n",
    "response = requests.get(url, params=weathernow)\n",
    "\n",
    "if response:\n",
    "    data = response.json()\n",
    "    current_temp = data.get(\"current_weather\", {}).get(\"temperature\")\n",
    "    if current_temp:\n",
    "        print(f\"Heathrow International Airport current temperature: {current_temp}°C\")\n"
   ]
  },
  {
   "cell_type": "markdown",
   "id": "a41b06b2-b89d-41ed-8ddb-3260763f57d0",
   "metadata": {},
   "source": [
    "## Q7)URL to request a 3-day forecast at Heathrow \n",
    "#### :https://api.open-meteo.com/v1/forecast?latitude=51.4712&longitude=-0.4565&daily=temperature_2m_max,weather_code&current=temperature_2m&forecast_days=3"
   ]
  },
  {
   "cell_type": "markdown",
   "id": "0158bd93-dd53-418e-8971-594653561e97",
   "metadata": {},
   "source": [
    "# Q8)Print the date of each of the 3 days you're getting a forecast for."
   ]
  },
  {
   "cell_type": "code",
   "execution_count": 26,
   "id": "03da7353-f59e-43e5-af8b-cbca892663bb",
   "metadata": {},
   "outputs": [
    {
     "name": "stdout",
     "output_type": "stream",
     "text": [
      "3-day forecast dates:\n",
      "2025-06-09\n",
      "2025-06-10\n",
      "2025-06-11\n"
     ]
    }
   ],
   "source": [
    "import requests\n",
    "\n",
    "lat = 51.4712\n",
    "lon = -0.4565\n",
    "\n",
    "url = \"https://api.open-meteo.com/v1/forecast\"\n",
    "forecast = {\n",
    "    \"latitude\": lat,\n",
    "    \"longitude\": lon,\n",
    "    \"daily\": \"temperature_2m_max,weather_code\",\n",
    "    \"forecast_days\": 3,\n",
    "}\n",
    "\n",
    "response = requests.get(url, params=forecast)\n",
    "data = response.json()\n",
    "\n",
    "dates = data.get(\"daily\", {}).get(\"time\", [])\n",
    "\n",
    "print(\"3-day forecast dates:\")\n",
    "for date in dates:\n",
    "    print(date)\n"
   ]
  },
  {
   "cell_type": "markdown",
   "id": "6ac6fac4-ad54-4c01-97bd-6114f72f0f0a",
   "metadata": {},
   "source": [
    "## Q9)Print the maximum temperature of each of the days."
   ]
  },
  {
   "cell_type": "code",
   "execution_count": 30,
   "id": "c20e29ae-5773-4803-9a4a-75bf433579c3",
   "metadata": {},
   "outputs": [
    {
     "name": "stdout",
     "output_type": "stream",
     "text": [
      "Date: 2025-06-09\n",
      "Max Temp: 19.4°C\n",
      "Date: 2025-06-10\n",
      "Max Temp: 21.7°C\n",
      "Date: 2025-06-11\n",
      "Max Temp: 24.3°C\n"
     ]
    }
   ],
   "source": [
    "import requests\n",
    "\n",
    "lat = 51.4712\n",
    "lon = -0.4565\n",
    "\n",
    "url = \"https://api.open-meteo.com/v1/forecast\"\n",
    "params = {\n",
    "    \"latitude\": lat,\n",
    "    \"longitude\": lon,\n",
    "    \"daily\": \"temperature_2m_max,weather_code\",\n",
    "    \"forecast_days\": 3,\n",
    "}\n",
    "\n",
    "response = requests.get(url, params=params)\n",
    "\n",
    "if response:\n",
    "    data = response.json()\n",
    "    forecast_days = data[\"daily\"][\"time\"] \n",
    "    max_temps = data[\"daily\"][\"temperature_2m_max\"] \n",
    "\n",
    "    for i in range(len(forecast_days)):\n",
    "        date = forecast_days[i]\n",
    "        max_temp = max_temps[i]\n",
    "        print(f\"Date: {date}\")\n",
    "        print(f\"Max Temp: {max_temp}°C\")\n"
   ]
  },
  {
   "cell_type": "markdown",
   "id": "778b4cb8-533f-4891-a09b-1f4049911377",
   "metadata": {},
   "source": [
    "# Q10)Print only the day with the highest maximum temperature."
   ]
  },
  {
   "cell_type": "code",
   "execution_count": 34,
   "id": "d958cd77-f07e-4f3f-a0dd-47f683f39981",
   "metadata": {},
   "outputs": [
    {
     "name": "stdout",
     "output_type": "stream",
     "text": [
      "Date: 2025-06-11\n",
      "Max Temp: 24.3°C\n"
     ]
    }
   ],
   "source": [
    "\n",
    "if response:\n",
    "    data = response.json()\n",
    "    dates = data[\"daily\"][\"time\"]\n",
    "    max_temps = data[\"daily\"][\"temperature_2m_max\"]\n",
    "  \n",
    "    max_temp_value = max(max_temps)\n",
    "    max_index = max_temps.index(max_temp_value)\n",
    "    max_temp_date = dates[max_index]\n",
    "\n",
    "    print(f\"Date: {max_temp_date}\")\n",
    "    print(f\"Max Temp: {max_temp_value}°C\")\n"
   ]
  },
  {
   "cell_type": "markdown",
   "id": "ca8fbf6b-21dd-42f3-b0a5-21447acf8f5a",
   "metadata": {},
   "source": [
    "## Q11)Did you find this easier or more difficult than using the weatherapi.com, and why? Which would you recommend to someone interesting in building a tool around weather information?\n",
    "\n",
    "### I genuinely believe that weatherapi.com is far easier to use and more recommendable than Open Meteo. In fact, I found Open Meteo so unfriendly that I would prefer not to use it again. My reasons are mainly the following two:\n",
    "\n",
    "#### 1.The Required Elements Were Missing, and It Took an Incredible Amount of Effort\n",
    "    The most difficult part of this assignment was extracting the weather condition and country name. The weather condition was only provided as a numeric weather code—an abstract number that required me to manually copy a list from the documentation and create a new dictionary just to make it human-readable. I clearly remember that the WeatherAPI immediately provided this information in plain language, so this felt like the most pointless task I’ve done since arriving in New York. It makes no sense to hide such a critical piece of information—the current readable weather condition—behind a code.\n",
    "    \n",
    "    Additionally, the country name wasn’t included in the API data at all. I had to take an entirely different approach just to determine the country from latitude and longitude. Comparing this to WeatherAPI, which did include this information, the process felt like a total waste of time.\n",
    "#### 2.Lack of User-Friendliness and Documentation\n",
    "    Open Meteo’s API documentation is not intuitive. It was hard to find the exact parameters and endpoints I needed. Compared to weatherapi.com, which offers clear examples and structured guides, Open Meteo felt like a guessing game. Even small tasks like getting current weather data involved unnecessary trial and error.\n"
   ]
  },
  {
   "cell_type": "code",
   "execution_count": null,
   "id": "d2ef5a35-d969-48c4-92b3-4a1456453253",
   "metadata": {},
   "outputs": [],
   "source": []
  }
 ],
 "metadata": {
  "kernelspec": {
   "display_name": "Python 3 (ipykernel)",
   "language": "python",
   "name": "python3"
  },
  "language_info": {
   "codemirror_mode": {
    "name": "ipython",
    "version": 3
   },
   "file_extension": ".py",
   "mimetype": "text/x-python",
   "name": "python",
   "nbconvert_exporter": "python",
   "pygments_lexer": "ipython3",
   "version": "3.12.3"
  }
 },
 "nbformat": 4,
 "nbformat_minor": 5
}
